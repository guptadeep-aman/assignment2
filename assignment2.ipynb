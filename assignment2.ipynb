{
 "cells": [
  {
   "cell_type": "code",
   "execution_count": 2,
   "id": "fd54a151-bd30-45dd-be1d-702c9d5edd75",
   "metadata": {},
   "outputs": [
    {
     "name": "stdin",
     "output_type": "stream",
     "text": [
      "enter your percentage:  82.2\n"
     ]
    },
    {
     "name": "stdout",
     "output_type": "stream",
     "text": [
      "you got B grade\n"
     ]
    }
   ],
   "source": [
    "#1\n",
    "percentage = float(input(\"enter your percentage: \"))\n",
    "if(percentage > 90 and percentage <=100):\n",
    "    print(\"You got A grade\")\n",
    "elif(percentage <= 90 and percentage > 80):\n",
    "    print(\"you got B grade\")\n",
    "elif(percentage <= 80 and percentage >= 60):\n",
    "    print(\"you got C grade\")\n",
    "elif(percentage < 60 and percentage >= 0):\n",
    "    print(\"you got D grade\")\n",
    "else:\n",
    "    print(\"enter the valid percentage\")"
   ]
  },
  {
   "cell_type": "code",
   "execution_count": null,
   "id": "7f3272e0-fd34-4e27-98d2-b273b1173284",
   "metadata": {},
   "outputs": [],
   "source": [
    "#2 direct tax calculation \n",
    "cost = int(input(\"enter the cost price of bike: \"))\n",
    "if(cost > 100000):\n",
    "    tax = cost*0.15\n",
    "elif(cost > 50000 and cost <= 100000):\n",
    "    tax = cost*0.1\n",
    "elif(cost <= 50000):\n",
    "    tax = cost*0.05\n",
    "print(\"You have to pay road tax equal to\", tax)    \n"
   ]
  },
  {
   "cell_type": "code",
   "execution_count": null,
   "id": "ffe7e639-33db-4c9d-ba7b-c1a7b009c69c",
   "metadata": {},
   "outputs": [],
   "source": [
    "#2 roadtax calculation according to slab just similar in the case of income tax calculation\n",
    "cost = int(input(\"enter the cost price of bike: \"))\n",
    "if(cost <= 50000):\n",
    "    tax = cost*0.05\n",
    "    result = tax\n",
    "elif(cost > 50000 and cost <= 100000):\n",
    "    tax_1 = (cost-50000)*0.1\n",
    "    tax = 50000*0.05\n",
    "    result = tax + tax_1\n",
    "elif(cost > 100000):\n",
    "    tax_1 = 50000*0.1\n",
    "    tax = 50000*0.05\n",
    "    tax_2 = (cost-100000)*0.15\n",
    "    result = tax + tax_1 + tax_2\n",
    "print(\"You have to pay road tax equal to\", result)"
   ]
  },
  {
   "cell_type": "code",
   "execution_count": null,
   "id": "69f3234a-b226-44b5-a563-b6b837812caa",
   "metadata": {},
   "outputs": [],
   "source": [
    "#3\n",
    "city = input(\"Enter your city name: \")\n",
    "city = city.title()\n",
    "if(city == \"Delhi\"):\n",
    "    print(\"the famous monument is Red Fort\")\n",
    "elif(city == \"Agra\"):\n",
    "    print(\"the famous monument is Taj Mahal\")\n",
    "elif(city == \"Jaipur\"):\n",
    "    print(\"the famous monument is Jai Mahal\")"
   ]
  },
  {
   "cell_type": "code",
   "execution_count": null,
   "id": "3336ba78-3c5c-47c0-bb4d-532ac029cd75",
   "metadata": {},
   "outputs": [],
   "source": [
    "#4 check how many times a given number can be divisible by 3 before it is less than or equal to 10\n",
    "number = int(input(\"enter the number: \"))\n",
    "count = 0\n",
    "while(number > 10):\n",
    "    number = number/3\n",
    "    count = count + 1\n",
    "print(count)"
   ]
  },
  {
   "cell_type": "code",
   "execution_count": null,
   "id": "f1bc1adf-9115-4c22-a285-8b07ce63be53",
   "metadata": {},
   "outputs": [],
   "source": [
    "#5 why and when to use while loop in python give a detailed description with example \n",
    "\"\"\" A While loop in Python allows a part of the code to be executed repeatedly as\n",
    "long as a given condition is true.\n",
    "It is typically used when the number of iterations is not known. for example\"\"\"\n",
    "i = 1\n",
    "while(i<10):\n",
    "    print(i)\n",
    "    i+=1"
   ]
  },
  {
   "cell_type": "code",
   "execution_count": null,
   "id": "742fcc4d-225c-4220-a8ad-d19bf37928b3",
   "metadata": {},
   "outputs": [],
   "source": [
    "#6(a) use nested while loop to print 3 different pattern\n",
    "n = int(input(\"Enter the value of n: \"))\n",
    "i=1\n",
    "while(i<=n):\n",
    "    j = 1\n",
    "    while(j<=i):\n",
    "        print(\"*\", end = \" \")\n",
    "        j +=1\n",
    "    print(' ')\n",
    "    i+=1"
   ]
  },
  {
   "cell_type": "code",
   "execution_count": null,
   "id": "25927042-3cab-43bb-ac7f-636b10e54974",
   "metadata": {},
   "outputs": [],
   "source": [
    "#6(b)\n",
    "n = int(input(\"Enter the vaalue of n: \"))\n",
    "i=1\n",
    "while(i<=n):\n",
    "    j = 1\n",
    "    while(j<=n-i+1):\n",
    "        print(\"*\", end = \" \")\n",
    "        j +=1\n",
    "    print(' ')\n",
    "    i+=1"
   ]
  },
  {
   "cell_type": "code",
   "execution_count": null,
   "id": "78f4a213-377b-4f06-8cb6-c55b27b6193f",
   "metadata": {},
   "outputs": [],
   "source": [
    "#6(c)\n",
    "n = int(input(\"Enter the vaalue of n: \"))\n",
    "i=1\n",
    "while(i<=n):\n",
    "    k = 1\n",
    "    while(k<= n-i):\n",
    "        print(' ', end = ' ')\n",
    "        k = k+1\n",
    "    j = 1\n",
    "    while(j<=i):\n",
    "        print(\"*\", end = \" \")\n",
    "        j +=1\n",
    "    print(' ')\n",
    "    i+=1"
   ]
  },
  {
   "cell_type": "code",
   "execution_count": null,
   "id": "ea36fc7e-4eee-42e4-8e80-b11244b59ed4",
   "metadata": {},
   "outputs": [],
   "source": [
    "#7&8 reverse a while loop to print number from 10 to 1\n",
    "i = 10\n",
    "while(i>0):\n",
    "    print(i)\n",
    "    i-=1"
   ]
  },
  {
   "cell_type": "code",
   "execution_count": null,
   "id": "afc572fd-175a-4026-bd85-ff75d20f9c06",
   "metadata": {},
   "outputs": [],
   "source": []
  }
 ],
 "metadata": {
  "kernelspec": {
   "display_name": "Python 3 (ipykernel)",
   "language": "python",
   "name": "python3"
  },
  "language_info": {
   "codemirror_mode": {
    "name": "ipython",
    "version": 3
   },
   "file_extension": ".py",
   "mimetype": "text/x-python",
   "name": "python",
   "nbconvert_exporter": "python",
   "pygments_lexer": "ipython3",
   "version": "3.10.8"
  }
 },
 "nbformat": 4,
 "nbformat_minor": 5
}
